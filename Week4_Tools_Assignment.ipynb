{
 "cells": [
  {
   "cell_type": "markdown",
   "id": "7d60b61b-28e3-4495-b38c-2f3643fa9085",
   "metadata": {},
   "source": [
    "# My Jupyter Notebook on IBM Watson Studio"
   ]
  },
  {
   "cell_type": "markdown",
   "id": "417d6c0d-3bef-496b-b652-a028596a5e34",
   "metadata": {},
   "source": [
    "**Coulson Thabo Kgathi**\n",
    "\n",
    "Data Scientiest"
   ]
  },
  {
   "cell_type": "markdown",
   "id": "fa5c6519-7738-474e-a55a-d55c2303820d",
   "metadata": {},
   "source": [
    "*I am interested in data science because its very interesting*"
   ]
  },
  {
   "cell_type": "markdown",
   "id": "7743d20d-ffc5-4093-81ed-43ce3f5b2d8a",
   "metadata": {},
   "source": [
    "### Add 2 numbers"
   ]
  },
  {
   "cell_type": "code",
   "execution_count": 2,
   "id": "17bb3ea6-7a49-4974-90d7-e41c2201cda9",
   "metadata": {},
   "outputs": [
    {
     "data": {
      "text/plain": [
       "7"
      ]
     },
     "execution_count": 2,
     "metadata": {},
     "output_type": "execute_result"
    }
   ],
   "source": [
    "3+4"
   ]
  },
  {
   "cell_type": "markdown",
   "id": "1a2fcdba-39a6-4938-a79f-980ccbdc1cb7",
   "metadata": {},
   "source": [
    "- Bullet 1\n",
    "- Bullet 2\n",
    "    - Sub bullet 1\n",
    "\n",
    "1. Numbered item\n",
    "     1. Substep\n",
    "\n",
    "<div class=\"alert alert-block alert-info\">\n",
    "<b>Tip:</b> Use blue boxes (alert-info) for tips and notes. \n",
    "If it’s a note, you don’t have to include the word “Note”.\n",
    "</div>\n",
    "\n",
    "```python\n",
    "for i in (1,2,3):\n",
    "   print(i)\n",
    "```\n",
    "\n",
    "\n",
    "\n",
    "Col1 |Col2 |Col3\n",
    "-----|-----|----- \n",
    "Data1|Data2|Data3\n",
    "Data1|Data2|Data3\n",
    "Data1|Data2|Data3\n",
    "Data1|Data2|Data3"
   ]
  },
  {
   "cell_type": "code",
   "execution_count": null,
   "id": "effd31eb-1145-4d19-aeff-f1c4405952ab",
   "metadata": {},
   "outputs": [],
   "source": []
  }
 ],
 "metadata": {
  "kernelspec": {
   "display_name": "Python",
   "language": "python",
   "name": "conda-env-python-py"
  },
  "language_info": {
   "codemirror_mode": {
    "name": "ipython",
    "version": 3
   },
   "file_extension": ".py",
   "mimetype": "text/x-python",
   "name": "python",
   "nbconvert_exporter": "python",
   "pygments_lexer": "ipython3",
   "version": "3.7.12"
  }
 },
 "nbformat": 4,
 "nbformat_minor": 5
}
